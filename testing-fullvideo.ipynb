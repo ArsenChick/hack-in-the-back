{
 "cells": [
  {
   "cell_type": "markdown",
   "id": "46f0f70b-a33f-408b-83c0-ada6632b58cc",
   "metadata": {},
   "source": [
    "--source: укажите путь к изображению или видеофайлу <br>\n",
    "--weights: указывает путь к модели не трогайте <br>\n",
    "--conf: показатель минимальной \"уверенности\" модели для отображения результатов, оптимальное значение - 0.10"
   ]
  },
  {
   "cell_type": "code",
   "execution_count": 1,
   "id": "64f2ad15-b103-45b2-b4f5-e6920ded61a3",
   "metadata": {},
   "outputs": [
    {
     "name": "stdout",
     "output_type": "stream",
     "text": [
      "\u001b[34m\u001b[1mdetect: \u001b[0mweights=['runs/train/exp20/weights/best.pt'], source=/home/nikita/yolov5/data/images/example.jpg, imgsz=[640, 640], conf_thres=0.1, iou_thres=0.45, max_det=1000, device=, view_img=False, save_txt=False, save_conf=False, save_crop=False, nosave=False, classes=None, agnostic_nms=False, augment=False, visualize=False, update=False, project=runs/detect, name=exp, exist_ok=False, line_thickness=3, hide_labels=False, hide_conf=False, half=False, dnn=False\n",
      "YOLOv5 🚀 v6.0-88-g80cfaf4 torch 1.8.0+cu111 CUDA:0 (NVIDIA GeForce GTX 1050 Ti, 4037MiB)\n",
      "\n",
      "Fusing layers... \n",
      "Model Summary: 213 layers, 7015519 parameters, 0 gradients, 15.8 GFLOPs\n",
      "image 1/1 /home/nikita/yolov5/data/images/example.jpg: 384x640 1 smoke, Done. (0.014s)\n",
      "Speed: 0.4ms pre-process, 14.3ms inference, 1.2ms NMS per image at shape (1, 3, 640, 640)\n",
      "Results saved to \u001b[1mruns/detect/exp\u001b[0m\n"
     ]
    }
   ],
   "source": [
    "!python3 detect.py --source /home/nikita/yolov5/data/images/example.jpg --weights runs/train/exp20/weights/best.pt --conf 0.10"
   ]
  },
  {
   "cell_type": "markdown",
   "id": "5d8dcb72-91e0-480d-a659-59c10d8a205f",
   "metadata": {},
   "source": [
    "Полученные данные сохраняются в runs/detect/exp<номер запуска>"
   ]
  }
 ],
 "metadata": {
  "kernelspec": {
   "display_name": "Python 3 (ipykernel)",
   "language": "python",
   "name": "python3"
  },
  "language_info": {
   "codemirror_mode": {
    "name": "ipython",
    "version": 3
   },
   "file_extension": ".py",
   "mimetype": "text/x-python",
   "name": "python",
   "nbconvert_exporter": "python",
   "pygments_lexer": "ipython3",
   "version": "3.8.10"
  }
 },
 "nbformat": 4,
 "nbformat_minor": 5
}
